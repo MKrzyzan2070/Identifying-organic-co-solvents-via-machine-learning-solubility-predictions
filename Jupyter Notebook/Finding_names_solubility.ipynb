{
 "cells": [
  {
   "cell_type": "code",
   "execution_count": 4,
   "id": "edf3268e-552b-41df-a7ec-a7990b6bffc4",
   "metadata": {},
   "outputs": [],
   "source": [
    "import pandas as pd\n",
    "import pubchempy as pcp\n",
    "\n",
    "solubility_df = pd.read_csv(\"Aqueous_Solubility.csv\")\n",
    "\n",
    "def fun_to_apply(row):\n",
    "    inchikey = row[\"Molecule_InChIKey\"]\n",
    "    compound = pcp.get_compounds(inchikey, 'inchikey')\n",
    "    name = compound[0].iupac_name\n",
    "    return name\n",
    "\n",
    "solubility_df[\"Solvent_name\"] = solubility_df.apply(fun_to_apply, axis=1)\n",
    "solubility_df.to_csv(\"Aqueous_Solubility.csv\", index=False)"
   ]
  },
  {
   "cell_type": "code",
   "execution_count": 11,
   "id": "564b8961-4039-4171-b3b3-7152caad9b38",
   "metadata": {},
   "outputs": [
    {
     "name": "stdout",
     "output_type": "stream",
     "text": [
      "tetrachloromethane\n"
     ]
    }
   ],
   "source": []
  },
  {
   "cell_type": "code",
   "execution_count": null,
   "id": "dbfb9825-ae45-4612-bb23-6f2325646ec3",
   "metadata": {},
   "outputs": [],
   "source": []
  }
 ],
 "metadata": {
  "kernelspec": {
   "display_name": "Python 3 (ipykernel)",
   "language": "python",
   "name": "python3"
  },
  "language_info": {
   "codemirror_mode": {
    "name": "ipython",
    "version": 3
   },
   "file_extension": ".py",
   "mimetype": "text/x-python",
   "name": "python",
   "nbconvert_exporter": "python",
   "pygments_lexer": "ipython3",
   "version": "3.10.14"
  }
 },
 "nbformat": 4,
 "nbformat_minor": 5
}
